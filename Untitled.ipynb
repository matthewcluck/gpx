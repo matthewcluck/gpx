{
 "cells": [
  {
   "cell_type": "code",
   "execution_count": 10,
   "id": "3d4f6cf8-74ef-4ecd-b791-80fab4b2ebd1",
   "metadata": {},
   "outputs": [],
   "source": [
    "import jupyterlab\n",
    "import geopandas as gpd\n",
    "import matplotlib.pyplot as plt\n",
    "from gpxpy import gpx"
   ]
  },
  {
   "cell_type": "code",
   "execution_count": null,
   "id": "76966825-b8df-44af-bb10-1be8d7ea58b6",
   "metadata": {},
   "outputs": [],
   "source": []
  }
 ],
 "metadata": {
  "kernelspec": {
   "display_name": "Python 3 (ipykernel)",
   "language": "python",
   "name": "python3"
  },
  "language_info": {
   "codemirror_mode": {
    "name": "ipython",
    "version": 3
   },
   "file_extension": ".py",
   "mimetype": "text/x-python",
   "name": "python",
   "nbconvert_exporter": "python",
   "pygments_lexer": "ipython3",
   "version": "3.12.6"
  }
 },
 "nbformat": 4,
 "nbformat_minor": 5
}
